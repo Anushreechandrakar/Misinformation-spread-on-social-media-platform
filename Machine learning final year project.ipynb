{
 "cells": [
  {
   "cell_type": "markdown",
   "id": "ea0da3e3",
   "metadata": {},
   "source": [
    "Identifying Misinformation Spread on Social Media.\n"
   ]
  },
  {
   "cell_type": "code",
   "execution_count": 3,
   "id": "d2a37239",
   "metadata": {},
   "outputs": [
    {
     "name": "stdout",
     "output_type": "stream",
     "text": [
      "              precision    recall  f1-score   support\n",
      "\n",
      "           0       1.00      1.00      1.00         1\n",
      "           1       1.00      1.00      1.00         1\n",
      "\n",
      "    accuracy                           1.00         2\n",
      "   macro avg       1.00      1.00      1.00         2\n",
      "weighted avg       1.00      1.00      1.00         2\n",
      "\n",
      "Post: \"This statement is completely false.\" - Prediction: False\n",
      "Post: \"Research shows this to be true.\" - Prediction: True\n"
     ]
    },
    {
     "name": "stderr",
     "output_type": "stream",
     "text": [
      "[nltk_data] Downloading package stopwords to\n",
      "[nltk_data]     C:\\Users\\chand\\AppData\\Roaming\\nltk_data...\n",
      "[nltk_data]   Package stopwords is already up-to-date!\n"
     ]
    }
   ],
   "source": [
    "import pandas as pd\n",
    "import numpy as np\n",
    "import nltk\n",
    "from sklearn.model_selection import train_test_split\n",
    "from sklearn.feature_extraction.text import TfidfVectorizer\n",
    "from sklearn.naive_bayes import MultinomialNB\n",
    "from sklearn.metrics import classification_report\n",
    "\n",
    "nltk.download('stopwords')\n",
    "from nltk.corpus import stopwords\n",
    "import string\n",
    "\n",
    "df = pd.read_csv('text_label.csv')  \n",
    "\n",
    "def preprocess_text(text):\n",
    "    text = text.lower()  \n",
    "    text = text.translate(str.maketrans('', '', string.punctuation))  \n",
    "    tokens = text.split()  \n",
    "    tokens = [word for word in tokens if word not in stopwords.words('english')]  \n",
    "    return ' '.join(tokens)\n",
    "\n",
    "df['cleaned_text'] = df['text'].apply(preprocess_text)\n",
    "\n",
    "X = df['cleaned_text']\n",
    "y = df['label']\n",
    "\n",
    "X_train, X_test, y_train, y_test = train_test_split(X, y, test_size=0.2, random_state=42)\n",
    "\n",
    "vectorizer = TfidfVectorizer()\n",
    "X_train_tfidf = vectorizer.fit_transform(X_train)\n",
    "X_test_tfidf = vectorizer.transform(X_test)\n",
    "\n",
    "model = MultinomialNB()\n",
    "model.fit(X_train_tfidf, y_train)\n",
    "\n",
    "\n",
    "y_pred = model.predict(X_test_tfidf)\n",
    "\n",
    "print(classification_report(y_test, y_pred))\n",
    "\n",
    "\n",
    "new_posts = ['This statement is completely false.', 'Research shows this to be true.']\n",
    "new_posts_cleaned = [preprocess_text(post) for post in new_posts]\n",
    "new_posts_tfidf = vectorizer.transform(new_posts_cleaned)\n",
    "predictions = model.predict(new_posts_tfidf)\n",
    "\n",
    "for post, pred in zip(new_posts, predictions):\n",
    "    print(f'Post: \"{post}\" - Prediction: {\"True\" if pred == 1 else \"False\"}')"
   ]
  },
  {
   "cell_type": "code",
   "execution_count": null,
   "id": "a513d902",
   "metadata": {},
   "outputs": [],
   "source": []
  }
 ],
 "metadata": {
  "kernelspec": {
   "display_name": "Python 3 (ipykernel)",
   "language": "python",
   "name": "python3"
  },
  "language_info": {
   "codemirror_mode": {
    "name": "ipython",
    "version": 3
   },
   "file_extension": ".py",
   "mimetype": "text/x-python",
   "name": "python",
   "nbconvert_exporter": "python",
   "pygments_lexer": "ipython3",
   "version": "3.10.9"
  }
 },
 "nbformat": 4,
 "nbformat_minor": 5
}
